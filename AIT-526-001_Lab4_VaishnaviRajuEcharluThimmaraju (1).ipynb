{
 "cells": [
  {
   "cell_type": "markdown",
   "id": "184f46c6",
   "metadata": {},
   "source": [
    "## Sentiment Analysi with VADER in NLTK\n"
   ]
  },
  {
   "cell_type": "markdown",
   "id": "cc0c5ffb",
   "metadata": {},
   "source": [
    "#### Importing Libraries"
   ]
  },
  {
   "cell_type": "code",
   "execution_count": 13,
   "id": "ab2880c8",
   "metadata": {},
   "outputs": [],
   "source": [
    "import nltk\n",
    "import numpy as np\n",
    "from nltk.stem import WordNetLemmatizer\n",
    "from nltk.tokenize import RegexpTokenizer\n",
    "from nltk.tokenize import word_tokenize\n",
    "from nltk.tokenize import sent_tokenize\n",
    "from nltk.probability import FreqDist\n",
    "from nltk.corpus import stopwords\n",
    "from nltk.sentiment import SentimentAnalyzer\n",
    "from nltk.sentiment.vader import SentimentIntensityAnalyzer"
   ]
  },
  {
   "cell_type": "markdown",
   "id": "ce211495",
   "metadata": {},
   "source": [
    "### TASK"
   ]
  },
  {
   "cell_type": "markdown",
   "id": "a1f266cc",
   "metadata": {},
   "source": [
    "##### 1.1 Calculating the overall sentiment score"
   ]
  },
  {
   "cell_type": "code",
   "execution_count": 14,
   "id": "cae36a18",
   "metadata": {},
   "outputs": [
    {
     "name": "stdout",
     "output_type": "stream",
     "text": [
      "Shakespeare_Juliet's Soliloquy.txt -0.4098538461538462\n",
      "Shakespeare_Sonnet 130.txt 0.46145\n",
      "Shakespeare_Blow, Blow, Thou Winter Winda.txt 0.27687999999999996\n",
      "Shakespeare_Fear No More.txt -0.18086249999999998\n",
      "Shakespeare_A Fair Song.txt 0.1604\n"
     ]
    }
   ],
   "source": [
    "from nltk.sentiment.vader import SentimentIntensityAnalyzer\n",
    "filenames = [\"Shakespeare_Juliet's Soliloquy.txt\",\n",
    "             'Shakespeare_Sonnet 130.txt',\n",
    "             'Shakespeare_Blow, Blow, Thou Winter Winda.txt', \n",
    "             'Shakespeare_Fear No More.txt',\n",
    "             'Shakespeare_A Fair Song.txt']\n",
    "result = []\n",
    "from operator import itemgetter, attrgetter\n",
    "import numpy as np\n",
    "\n",
    "def getsent(file):\n",
    "    for x in file:\n",
    "        f = open(x,\"r\")\n",
    "        mytext = f.read()\n",
    "        token_sent = sent_tokenize(mytext)\n",
    "        sentanlyze = SentimentIntensityAnalyzer()\n",
    "        sentiment_scores = [sentanlyze.polarity_scores(sentence)['compound'] for sentence in token_sent]\n",
    "        overall_score = np.mean(sentiment_scores)\n",
    "        result.append((x,overall_score))\n",
    "        print(x,overall_score)\n",
    "    \n",
    "\n",
    "getsent(filenames)   \n",
    "\n"
   ]
  },
  {
   "cell_type": "markdown",
   "id": "bbdfad7a",
   "metadata": {},
   "source": [
    "##### 1.2 Ranking the overall sentiment score for each file"
   ]
  },
  {
   "cell_type": "code",
   "execution_count": 15,
   "id": "e4ee3ba4",
   "metadata": {},
   "outputs": [
    {
     "data": {
      "text/plain": [
       "[(\"Shakespeare_Juliet's Soliloquy.txt\", -0.4098538461538462),\n",
       " ('Shakespeare_Fear No More.txt', -0.18086249999999998),\n",
       " ('Shakespeare_A Fair Song.txt', 0.1604),\n",
       " ('Shakespeare_Blow, Blow, Thou Winter Winda.txt', 0.27687999999999996),\n",
       " ('Shakespeare_Sonnet 130.txt', 0.46145)]"
      ]
     },
     "execution_count": 15,
     "metadata": {},
     "output_type": "execute_result"
    }
   ],
   "source": [
    "result.sort(key=lambda x:x[1])\n",
    "result"
   ]
  }
 ],
 "metadata": {
  "kernelspec": {
   "display_name": "Python 3 (ipykernel)",
   "language": "python",
   "name": "python3"
  },
  "language_info": {
   "codemirror_mode": {
    "name": "ipython",
    "version": 3
   },
   "file_extension": ".py",
   "mimetype": "text/x-python",
   "name": "python",
   "nbconvert_exporter": "python",
   "pygments_lexer": "ipython3",
   "version": "3.9.13"
  }
 },
 "nbformat": 4,
 "nbformat_minor": 5
}
