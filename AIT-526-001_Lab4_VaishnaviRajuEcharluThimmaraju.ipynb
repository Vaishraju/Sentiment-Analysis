{
 "cells": [
  {
   "cell_type": "markdown",
   "id": "184f46c6",
   "metadata": {},
   "source": [
    "## Sentiment Analysi with VADER in NLTK\n"
   ]
  },
  {
   "cell_type": "markdown",
   "id": "cc0c5ffb",
   "metadata": {},
   "source": [
    "#### Importing Libraries"
   ]
  },
  {
   "cell_type": "code",
   "execution_count": 13,
   "id": "ab2880c8",
   "metadata": {},
   "outputs": [],
   "source": [
    "import nltk\n",
    "import numpy as np\n",
    "from nltk.stem import WordNetLemmatizer\n",
    "from nltk.tokenize import RegexpTokenizer\n",
    "from nltk.tokenize import word_tokenize\n",
    "from nltk.tokenize import sent_tokenize\n",
    "from nltk.probability import FreqDist\n",
    "from nltk.corpus import stopwords\n",
    "from nltk.sentiment import SentimentAnalyzer\n",
    "from nltk.sentiment.vader import SentimentIntensityAnalyzer"
   ]
  },
  {
   "cell_type": "markdown",
   "id": "ce211495",
   "metadata": {},
   "source": [
    "### TASK"
   ]
  },
  {
   "cell_type": "markdown",
   "id": "a1f266cc",
   "metadata": {},
   "source": [
    "##### 1.1 Calculating the overall sentiment score"
   ]
  },
  {
   "cell_type": "code",
   "execution_count": 14,
   "id": "cae36a18",
   "metadata": {},
   "outputs": [
    {
     "name": "stdout",
     "output_type": "stream",
     "text": [
      "Shakespeare_Juliet's Soliloquy.txt -0.4098538461538462\n",
      "Shakespeare_Sonnet 130.txt 0.46145\n",
      "Shakespeare_Blow, Blow, Thou Winter Winda.txt 0.27687999999999996\n",
      "Shakespeare_Fear No More.txt -0.18086249999999998\n",
      "Shakespeare_A Fair Song.txt 0.1604\n"
     ]
    }
   ],
   "source": [
    "from nltk.sentiment.vader import SentimentIntensityAnalyzer\n",
    "filenames = [\"Shakespeare_Juliet's Soliloquy.txt\",\n",
    "             'Shakespeare_Sonnet 130.txt',\n",
    "             'Shakespeare_Blow, Blow, Thou Winter Winda.txt', \n",
    "             'Shakespeare_Fear No More.txt',\n",
    "             'Shakespeare_A Fair Song.txt']\n",
    "result = []\n",
    "from operator import itemgetter, attrgetter\n",
    "import numpy as np\n",
    "\n",
    "def getsent(file):\n",
    "    for x in file:\n",
    "        f = open(x,\"r\")\n",
    "        mytext = f.read()\n",
    "        token_sent = sent_tokenize(mytext)\n",
    "        sentanlyze = SentimentIntensityAnalyzer()\n",
    "        sentiment_scores = [sentanlyze.polarity_scores(sentence)['compound'] for sentence in token_sent]\n",
    "        overall_score = np.mean(sentiment_scores)\n",
    "        result.append((x,overall_score))\n",
    "        print(x,overall_score)\n",
    "    \n",
    "\n",
    "getsent(filenames)   \n",
    "\n"
   ]
  },
  {
   "cell_type": "markdown",
   "id": "bbdfad7a",
   "metadata": {},
   "source": [
    "##### 1.2 Ranking the overall sentiment score for each file"
   ]
  },
  {
   "cell_type": "code",
   "execution_count": 15,
   "id": "e4ee3ba4",
   "metadata": {},
   "outputs": [
    {
     "data": {
      "text/plain": [
       "[(\"Shakespeare_Juliet's Soliloquy.txt\", -0.4098538461538462),\n",
       " ('Shakespeare_Fear No More.txt', -0.18086249999999998),\n",
       " ('Shakespeare_A Fair Song.txt', 0.1604),\n",
       " ('Shakespeare_Blow, Blow, Thou Winter Winda.txt', 0.27687999999999996),\n",
       " ('Shakespeare_Sonnet 130.txt', 0.46145)]"
      ]
     },
     "execution_count": 15,
     "metadata": {},
     "output_type": "execute_result"
    }
   ],
   "source": [
    "result.sort(key=lambda x:x[1])\n",
    "result"
   ]
  },
  {
   "cell_type": "markdown",
   "id": "b27b0c66",
   "metadata": {},
   "source": [
    "##### 1.4 Results"
   ]
  },
  {
   "cell_type": "markdown",
   "id": "d745ee93",
   "metadata": {},
   "source": [
    "1.4.1  \n",
    "\n",
    "When we see the text \"Shakespeare_Juliet's Soliloquy\" it speaks more about being alone,uses words such as horrible, farewell and many more words that shows the negativity being highlighted and therefore the sentiment score obtained -0.406 makes sense.\n",
    "Where as the text \"Shakespeare_Sonnet\" here the words used like heaven, love and many more highlight the positivity of the text and therefore the sentiment score obtained 0.4 that makes sense.\n",
    "From these examples, I believe the sentiment score that are obtained are making sense."
   ]
  },
  {
   "cell_type": "markdown",
   "id": "341a08f6",
   "metadata": {},
   "source": [
    "1.4.2\n",
    "\n",
    "In this program, I am using mean function to find the overall sentiment of the text which performs by analysing the sentiment for each sentence and finding the mean of the score. This approach makes more sense than using other statistical methods such as median and mode."
   ]
  },
  {
   "cell_type": "markdown",
   "id": "0242076d",
   "metadata": {},
   "source": [
    "1.4.3\n",
    "\n",
    "Some extended applications of this program are:\n",
    "\n",
    "i. We can implement the same code for the entire story or the novel to find its overall sentiment.\n",
    "\n",
    "ii. We can also fetch the reviews of a certain product and perform this analysis to know the working of the product whether it is has a overall positive feedback or negative feedback\n",
    "\n",
    "iii.We can perform the comparitative analysis by considering different poems written by different poets and then catagorize them based on overall score."
   ]
  },
  {
   "cell_type": "markdown",
   "id": "1a1a015e",
   "metadata": {},
   "source": [
    "### REFERENCES"
   ]
  },
  {
   "cell_type": "markdown",
   "id": "c6cd600f",
   "metadata": {},
   "source": [
    "1. Bajaj, A. (2022) Vader sentiment analysis: NLP sentiment analysis using Vader, Analytics Vidhya. Available at: https://www.analyticsvidhya.com/blog/2021/06/vader-for-sentiment-analysis/ (Accessed: November 12, 2022). \n",
    "\n",
    "2.  Woo, S. (2017) Sentiment analysis with NLTK /vader - comments on Lee Hsien Loong's facebook post, Medium. Medium. Available at: https://medium.com/@sharonwoo/sentiment-analysis-with-nltk-422e0f794b8 (Accessed: November 12, 2022).     \n",
    "\n",
    "3. Real Python (2022) Sentiment analysis: First steps with Python's NLTK library, Real Python. Real Python. Available at: https://realpython.com/python-nltk-sentiment-analysis/ (Accessed: November 12, 2022). "
   ]
  },
  {
   "cell_type": "code",
   "execution_count": null,
   "id": "5d215ffb",
   "metadata": {},
   "outputs": [],
   "source": []
  }
 ],
 "metadata": {
  "kernelspec": {
   "display_name": "Python 3 (ipykernel)",
   "language": "python",
   "name": "python3"
  },
  "language_info": {
   "codemirror_mode": {
    "name": "ipython",
    "version": 3
   },
   "file_extension": ".py",
   "mimetype": "text/x-python",
   "name": "python",
   "nbconvert_exporter": "python",
   "pygments_lexer": "ipython3",
   "version": "3.9.13"
  }
 },
 "nbformat": 4,
 "nbformat_minor": 5
}
